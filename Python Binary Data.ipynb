{
 "cells": [
  {
   "cell_type": "markdown",
   "metadata": {},
   "source": [
    "# Intro to Binary Data in Python"
   ]
  },
  {
   "cell_type": "markdown",
   "metadata": {},
   "source": [
    "### The `bytes` type"
   ]
  },
  {
   "cell_type": "code",
   "execution_count": 1,
   "metadata": {},
   "outputs": [
    {
     "name": "stdout",
     "output_type": "stream",
     "text": [
      "<class 'bytes'>\n"
     ]
    }
   ],
   "source": [
    "print(bytes)"
   ]
  },
  {
   "cell_type": "code",
   "execution_count": 2,
   "metadata": {},
   "outputs": [
    {
     "data": {
      "text/plain": [
       "['__add__',\n",
       " '__class__',\n",
       " '__contains__',\n",
       " '__delattr__',\n",
       " '__dir__',\n",
       " '__doc__',\n",
       " '__eq__',\n",
       " '__format__',\n",
       " '__ge__',\n",
       " '__getattribute__',\n",
       " '__getitem__',\n",
       " '__getnewargs__',\n",
       " '__gt__',\n",
       " '__hash__',\n",
       " '__init__',\n",
       " '__init_subclass__',\n",
       " '__iter__',\n",
       " '__le__',\n",
       " '__len__',\n",
       " '__lt__',\n",
       " '__mod__',\n",
       " '__mul__',\n",
       " '__ne__',\n",
       " '__new__',\n",
       " '__reduce__',\n",
       " '__reduce_ex__',\n",
       " '__repr__',\n",
       " '__rmod__',\n",
       " '__rmul__',\n",
       " '__setattr__',\n",
       " '__sizeof__',\n",
       " '__str__',\n",
       " '__subclasshook__',\n",
       " 'capitalize',\n",
       " 'center',\n",
       " 'count',\n",
       " 'decode',\n",
       " 'endswith',\n",
       " 'expandtabs',\n",
       " 'find',\n",
       " 'fromhex',\n",
       " 'hex',\n",
       " 'index',\n",
       " 'isalnum',\n",
       " 'isalpha',\n",
       " 'isdigit',\n",
       " 'islower',\n",
       " 'isspace',\n",
       " 'istitle',\n",
       " 'isupper',\n",
       " 'join',\n",
       " 'ljust',\n",
       " 'lower',\n",
       " 'lstrip',\n",
       " 'maketrans',\n",
       " 'partition',\n",
       " 'replace',\n",
       " 'rfind',\n",
       " 'rindex',\n",
       " 'rjust',\n",
       " 'rpartition',\n",
       " 'rsplit',\n",
       " 'rstrip',\n",
       " 'split',\n",
       " 'splitlines',\n",
       " 'startswith',\n",
       " 'strip',\n",
       " 'swapcase',\n",
       " 'title',\n",
       " 'translate',\n",
       " 'upper',\n",
       " 'zfill']"
      ]
     },
     "execution_count": 2,
     "metadata": {},
     "output_type": "execute_result"
    }
   ],
   "source": [
    "x = bytes()\n",
    "dir(x)"
   ]
  },
  {
   "cell_type": "code",
   "execution_count": 3,
   "metadata": {},
   "outputs": [
    {
     "name": "stdout",
     "output_type": "stream",
     "text": [
      "b'hello world'\n",
      "b'hello world'\n",
      "b'hello world'\n",
      "True\n"
     ]
    }
   ],
   "source": [
    "# Literals can be defined with any mxiture of ASCII characters and hexidecimal escape sequences\n",
    "x = b'hello world'\n",
    "y = b'\\x68\\x65\\x6c\\x6c\\x6f\\x20\\x77\\x6f\\x72\\x6c\\x64'\n",
    "z = bytes([104, 101, 108, 108, 111, 32, 119, 111, 114, 108, 100])\n",
    "print(x)\n",
    "print(y)\n",
    "print(z)\n",
    "print(x == y == z)"
   ]
  },
  {
   "cell_type": "code",
   "execution_count": 4,
   "metadata": {},
   "outputs": [
    {
     "name": "stdout",
     "output_type": "stream",
     "text": [
      "[104, 101, 108, 108, 111, 32, 119, 111, 114, 108, 100]\n"
     ]
    }
   ],
   "source": [
    "# Interating over a bytes object yields each byte's integer value\n",
    "print([b for b in x])"
   ]
  },
  {
   "cell_type": "markdown",
   "metadata": {},
   "source": [
    "## Converting data into useful python objects"
   ]
  },
  {
   "cell_type": "markdown",
   "metadata": {},
   "source": [
    "### Text data to and from bytes"
   ]
  },
  {
   "cell_type": "code",
   "execution_count": 5,
   "metadata": {},
   "outputs": [
    {
     "name": "stdout",
     "output_type": "stream",
     "text": [
      "hello world☺\n",
      "b'hello world\\xe2\\x98\\xba'\n",
      "b'\\xff\\xfeh\\x00e\\x00l\\x00l\\x00o\\x00 \\x00w\\x00o\\x00r\\x00l\\x00d\\x00:&'\n"
     ]
    }
   ],
   "source": [
    "bytes_msg = b'hello world\\xe2\\x98\\xba'\n",
    "string_msg = bytes_msg.decode('utf8')\n",
    "print(string_msg)\n",
    "\n",
    "print(string_msg.encode('utf8'))\n",
    "print(string_msg.encode('utf16'))"
   ]
  },
  {
   "cell_type": "markdown",
   "metadata": {},
   "source": [
    "### Loading binary data from a file"
   ]
  },
  {
   "cell_type": "code",
   "execution_count": 6,
   "metadata": {},
   "outputs": [
    {
     "name": "stdout",
     "output_type": "stream",
     "text": [
      "b'BMz{\\x0c\\x00\\x00\\x00\\x00\\x00z\\x00\\x00\\x00l\\x00\\x00\\x00\\x80\\x02\\x00\\x00\\xaa\\x01\\x00\\x00\\x01\\x00\\x18\\x00\\x00\\x00\\x00\\x00\\x00{\\x0c\\x00\\x13\\x0b\\x00\\x00\\x13\\x0b\\x00\\x00\\x00\\x00\\x00\\x00\\x00\\x00\\x00\\x00BGRs\\x00\\x00\\x00\\x00\\x00\\x00\\x00\\x00\\x00\\x00\\x00\\x00\\x00\\x00\\x00\\x00\\x00\\x00\\x00\\x00\\x00\\x00\\x00\\x00\\x00\\x00\\x00\\x00\\x00\\x00\\x00\\x00\\x00\\x00\\x00\\x00\\x00\\x00\\x00\\x00\\x00\\x00\\x00\\x00\\x00\\x00\\x00\\x00\\x02\\x00\\x00\\x00\\x00\\x00\\x00\\x00\\x00\\x00\\x00\\x00\\x00\\x00\\x00\\x00\\x04\\x07\\x05\\x02\\x05\\x03\\x04\\x03\\x05\\x04\\x03\\x05\\x06\\x04\\x04\\x06\\x06\\x06\\x06\\x06\\x06\\x00\\x01\\x05\\x07\\t\\x13\\x84\\x88\\x9a\\xbf\\xc1\\xdf\\xbb\\xbd\\xdf\\xbc\\xbd\\xe3\\xba\\xbc\\xdf\\xbc\\xbf\\xde\\xba\\xc0\\xdd\\xb9\\xbe\\xdd\\xb8\\xc0\\xde\\xb9\\xc1\\xdf\\xb9\\xc1\\xdf\\xbb\\xc0\\xdf\\xbb\\xc0\\xdf\\xba\\xbf\\xde\\xba\\xbf\\xde\\xbc\\xc0\\xdd\\xbe\\xc2\\xdf\\xbe\\xc2\\xdf\\xbd\\xc1\\xde\\xbd\\xc1\\xde\\xbe\\xc2\\xdf\\xbf\\xc3\\xe0\\xbf\\xc3\\xe0\\xc1\\xc4\\xe3\\xc0\\xc3\\xe2\\xc0\\xc4\\xe1\\xc1\\xc5\\xe2\\xc1\\xc5\\xe2\\xc1\\xc5\\xe2\\xc1\\xc5\\xe1\\xc0\\xc4\\xe0\\xc0\\xc3\\xdf\\xc0\\xc3\\xdf\\xc1\\xc5\\xde\\xc2\\xc6\\xdf\\xc1\\xc5\\xde\\xc1\\xc5\\xde\\xc0\\xc4\\xdd\\xbf\\xc3\\xdc\\xc1\\xc3\\xe1\\xc1\\xc3\\xe1\\xc1\\xc3\\xe1\\xc1\\xc3\\xe1\\xc0\\xc3\\xdf\\xbf\\xc2\\xde\\xbf\\xc2\\xde\\xbf\\xc2\\xde\\xbb\\xbe\\xda\\xbc\\xbf\\xdb\\xbe\\xbf\\xd9\\xbd\\xbe\\xd8\\xbd\\xbe\\xd8\\xbe\\xbf\\xd9\\xbe\\xbf\\xd9\\xbd\\xbe\\xd8\\xbf\\xc0\\xda\\xbf\\xc0\\xda\\xbd\\xc1\\xda\\xbd\\xc1\\xda\\xbc\\xc0\\xd9\\xbc\\xc0\\xd9\\xbd\\xc1\\xda\\xbe\\xc2\\xdb\\xbe\\xc2\\xda\\xbe\\xc2\\xda\\xbe\\xc2\\xda\\xbe\\xc2\\xda\\xbf\\xc3\\xdb\\xc0\\xc4\\xdc\\xbf\\xc5\\xdc\\xbf\\xc4\\xdd\\xbf\\xc3\\xdf\\xbe\\xc2\\xdf\\xbd\\xc1\\xde\\xbc\\xc0\\xdd\\xbc\\xc0\\xdd\\xbc\\xc0\\xdd\\xbd\\xbf\\xdd\\xbd\\xbf\\xdd\\xbb\\xbd\\xdb\\xbc\\xbe\\xdc\\xbc\\xbe\\xdc\\xbb\\xbd\\xdb\\xbb\\xbd\\xdb\\xbc\\xbe\\xdc\\xbc\\xbe\\xdc\\xbb\\xbe\\xda\\xbc\\xbd\\xd7\\xbc\\xbe\\xd6\\xba\\xbe\\xd6\\xba\\xbe\\xd6\\xba\\xbe\\xd6\\xba\\xbe\\xd6\\xba\\xbe\\xd6\\xba\\xbe\\xd6\\xb8\\xbc\\xd4\\xb9\\xbd\\xd5\\xb9\\xbe\\xd3\\xb8\\xbd\\xd2\\xba\\xbd\\xd2\\xba\\xbd\\xd2\\xbe\\xbf\\xd4\\xbf\\xc0\\xd5\\xb9\\xbb\\xd3\\xbd\\xbf\\xd7\\xbc\\xbe\\xd6\\xbb\\xbd\\xd5\\xbc\\xbe\\xd6\\xbc\\xbe\\xd6\\xbb\\xbd\\xd5\\xbc\\xbe\\xd6\\xbd\\xbf\\xd7\\xbc\\xbe\\xd6\\xbb\\xbe\\xd3\\xbb\\xbe\\xd3\\xbb\\xbe\\xd3\\xbb\\xbe\\xd3'\n"
     ]
    }
   ],
   "source": [
    "with open('image.bmp', 'rb') as bmp_file:\n",
    "    bmp_data = bmp_file.read()\n",
    "print(bmp_data[:500])"
   ]
  },
  {
   "cell_type": "markdown",
   "metadata": {},
   "source": [
    "### Interpreting structured binary file data\n",
    "#### BMP file format\n",
    "\n",
    "*Source: http://www.ece.ualberta.ca/~elliott/ee552/studentAppNotes/2003_w/misc/bmp_file_format/bmp_file_format.htm*\n",
    "\n",
    "| Section         | Size (# bytes) | Description |\n",
    "|-----------------|----------------|-------------|\n",
    "| File Header     | 2              | 'BM' file signature |\n",
    "| -               | 4              | File size in bytes (32 bit integer) |\n",
    "| -               | 4              | Reserved / unused |\n",
    "| -               | 4              | Image data offset (32 bit integer) |\n",
    "| Image Info      | 4              | Size of this header (32 bit integer, ==40) |\n",
    "| -               | 4              | Image width (32 bit integer) |\n",
    "| -               | 4              | Image height (32 bit integer) |\n",
    "| -               | 2              | # color planes (16 bit integer) |\n",
    "| -               | 2              | Bits per pixel (16 bit integer, 1, 4, 8, 16, or 24) |\n",
    "| -               | 4              | Compression type (32 bit integer, 0, 1, or 2) |\n",
    "| -               | 4              | Compressed image size (32 bit integer, ==0) |\n",
    "| -               | 4              | X pixels per meter (32 bit integer) |\n",
    "| -               | 4              | Y pizels per meter (32 bit integer) |\n",
    "| -               | 4              | # Colors used (ignore) |\n",
    "| -               | 4              | # Important colors (ignore) |\n",
    "| Color Table     | ?              | - |\n",
    "| Pixel Data      | ?              | - |\n"
   ]
  },
  {
   "cell_type": "code",
   "execution_count": 7,
   "metadata": {},
   "outputs": [],
   "source": [
    "import struct\n",
    "\n",
    "header_data = struct.unpack('<2sIIIIIIHHIIIIII', bmp_data[:54])\n",
    "# < tells unpact to use little-endianness when interpreting integers (byte order integers are assumed to be stored in)\n",
    "# 2s specifies 2 consecutive bytes\n",
    "# I specifies a standard width unsigned integer (a 32 bit always positive integer)\n",
    "# H specifies an unsigned short integer (a 16 bit always positive integer)\n",
    "\n",
    "# For other format options see: https://docs.python.org/3/library/struct.html#format-strings\n",
    "\n",
    "\n",
    "(\n",
    "    file_sig,\n",
    "    file_size,\n",
    "    reserved,\n",
    "    pixel_data_offset,\n",
    "    info_header_size,\n",
    "    width,\n",
    "    height,\n",
    "    num_planes,\n",
    "    bits_per_pixel,\n",
    "    compression_type,\n",
    "    compressed_size,\n",
    "    horizontal_resolution,\n",
    "    vertical_resolution,\n",
    "    colors_used,\n",
    "    important_colors,\n",
    ") = header_data\n"
   ]
  },
  {
   "cell_type": "code",
   "execution_count": 8,
   "metadata": {},
   "outputs": [
    {
     "name": "stdout",
     "output_type": "stream",
     "text": [
      "<class 'int'>\n"
     ]
    }
   ],
   "source": [
    "assert file_sig == b'BM'  # make sure this file says it's a bitmap image\n",
    "print(type(width))"
   ]
  },
  {
   "cell_type": "code",
   "execution_count": 9,
   "metadata": {},
   "outputs": [
    {
     "name": "stdout",
     "output_type": "stream",
     "text": [
      "\n",
      "File Size:    818042 bytes\n",
      "Image Size:   640x426\n",
      "BPP:          24\n",
      "Compression:  0\n",
      "Resolution:   2835x2835\n",
      "\n"
     ]
    }
   ],
   "source": [
    "print(f'''\n",
    "File Size:    {file_size} bytes\n",
    "Image Size:   {width}x{height}\n",
    "BPP:          {bits_per_pixel}\n",
    "Compression:  {compression_type}\n",
    "Resolution:   {horizontal_resolution}x{vertical_resolution}\n",
    "''')"
   ]
  },
  {
   "cell_type": "code",
   "execution_count": 10,
   "metadata": {},
   "outputs": [
    {
     "name": "stdout",
     "output_type": "stream",
     "text": [
      "122\n"
     ]
    }
   ],
   "source": [
    "print(pixel_data_offset)\n",
    "pixel_data = bmp_data[pixel_data_offset:]"
   ]
  },
  {
   "cell_type": "code",
   "execution_count": 11,
   "metadata": {},
   "outputs": [],
   "source": [
    "# invert colors\n",
    "inverted_pixels = bytes([~x & 0xFF for x in pixel_data])"
   ]
  },
  {
   "cell_type": "code",
   "execution_count": 12,
   "metadata": {},
   "outputs": [
    {
     "name": "stdout",
     "output_type": "stream",
     "text": [
      "b'BM6{\\x0c\\x00\\x00\\x00\\x00\\x006\\x00\\x00\\x00(\\x00\\x00\\x00\\x80\\x02\\x00\\x00\\xaa\\x01\\x00\\x00\\x01\\x00\\x18\\x00\\x00\\x00\\x00\\x00\\x00\\x00\\x00\\x00\\x13\\x0b\\x00\\x00\\x13\\x0b\\x00\\x00\\x00\\x00\\x00\\x00\\x00\\x00\\x00\\x00'\n"
     ]
    }
   ],
   "source": [
    "# re-pack the header data\n",
    "total_header_size = struct.calcsize('<2sIIIIIIHHIIIIII')\n",
    "\n",
    "header_bytes = struct.pack(\n",
    "    '<2sIIIIIIHHIIIIII', \n",
    "    b'BM',  # file signature\n",
    "    len(inverted_pixels) + total_header_size,  # filesize\n",
    "    0,  # reserved\n",
    "    total_header_size,  # pixel offset\n",
    "    40,  # info header size\n",
    "    width,\n",
    "    height,\n",
    "    1,  # num planes\n",
    "    24,  # bits per pixel\n",
    "    0,  # compression type\n",
    "    0,  # compressed size\n",
    "    horizontal_resolution,\n",
    "    vertical_resolution,\n",
    "    0,  # colors used\n",
    "    0,  # important colors\n",
    ")\n",
    "print(header_bytes)"
   ]
  },
  {
   "cell_type": "code",
   "execution_count": 13,
   "metadata": {},
   "outputs": [],
   "source": [
    "with open('inverted.bmp', 'wb') as bmp_file:\n",
    "    bmp_file.write(header_bytes)\n",
    "    bmp_file.write(inverted_pixels)"
   ]
  },
  {
   "cell_type": "markdown",
   "metadata": {},
   "source": [
    "## Other encodings"
   ]
  },
  {
   "cell_type": "code",
   "execution_count": 14,
   "metadata": {},
   "outputs": [
    {
     "data": {
      "text/plain": [
       "b'68656c6c6f20776f726c64'"
      ]
     },
     "execution_count": 14,
     "metadata": {},
     "output_type": "execute_result"
    }
   ],
   "source": [
    "import binascii\n",
    "\n",
    "binary_string = b'hello world'\n",
    "binascii.hexlify(binary_string)"
   ]
  },
  {
   "cell_type": "code",
   "execution_count": 15,
   "metadata": {},
   "outputs": [
    {
     "data": {
      "text/plain": [
       "b'aGVsbG8gd29ybGQ='"
      ]
     },
     "execution_count": 15,
     "metadata": {},
     "output_type": "execute_result"
    }
   ],
   "source": [
    "import base64\n",
    "\n",
    "base64.b64encode(binary_string)"
   ]
  },
  {
   "cell_type": "code",
   "execution_count": null,
   "metadata": {},
   "outputs": [],
   "source": []
  }
 ],
 "metadata": {
  "kernelspec": {
   "display_name": "Python 3",
   "language": "python",
   "name": "python3"
  },
  "language_info": {
   "codemirror_mode": {
    "name": "ipython",
    "version": 3
   },
   "file_extension": ".py",
   "mimetype": "text/x-python",
   "name": "python",
   "nbconvert_exporter": "python",
   "pygments_lexer": "ipython3",
   "version": "3.6.8"
  }
 },
 "nbformat": 4,
 "nbformat_minor": 2
}
